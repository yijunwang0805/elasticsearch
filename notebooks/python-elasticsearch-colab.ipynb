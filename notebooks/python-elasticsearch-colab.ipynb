{
  "cells": [
    {
      "cell_type": "markdown",
      "metadata": {
        "id": "view-in-github",
        "colab_type": "text"
      },
      "source": [
        "<a href=\"https://colab.research.google.com/github/yijunwang0805/elasticsearch/blob/main/notebooks/python-elasticsearch-colab.ipynb\" target=\"_parent\"><img src=\"https://colab.research.google.com/assets/colab-badge.svg\" alt=\"Open In Colab\"/></a>"
      ]
    },
    {
      "cell_type": "code",
      "execution_count": 25,
      "metadata": {
        "id": "IsDqz0tsLwZc"
      },
      "outputs": [],
      "source": [
        "%%capture\n",
        "\n",
        "!pip install elasticsearch==7.14.0\n",
        "!apt install default-jdk > /dev/null\n",
        "try:\n",
        "  from elasticsearch import Elasticsearch\n",
        "  from elasticsearch.helpers import bulk\n",
        "  # go 里用 gojieba\n",
        "  import jieba\n",
        "  import os\n",
        "  import elasticsearch\n",
        "  from elasticsearch import Elasticsearch\n",
        "  import numpy as np\n",
        "  import pandas as pd\n",
        "  import sys\n",
        "  import json\n",
        "  from ast import literal_eval\n",
        "  from tqdm import tqdm\n",
        "  import datetime\n",
        "  from elasticsearch import helpers\n",
        "\n",
        "except Exception as e:\n",
        "  print(f\"error: {e}\")\n",
        "\n",
        "# Download & extract Elasticsearch 7.0.0\n",
        "\n",
        "!wget https://artifacts.elastic.co/downloads/elasticsearch/elasticsearch-7.0.0-linux-x86_64.tar.gz -q\n",
        "!tar -xzf elasticsearch-7.0.0-linux-x86_64.tar.gz\n",
        "!chown -R daemon:daemon elasticsearch-7.0.0\n",
        "\n",
        "# Creating daemon instance of elasticsearch\n",
        "import os\n",
        "from subprocess import Popen, PIPE, STDOUT\n",
        "es_server = Popen(['elasticsearch-7.0.0/bin/elasticsearch'],\n",
        "                  stdout=PIPE, stderr=STDOUT,\n",
        "                  preexec_fn=lambda: os.setuid(1)  # as daemon\n",
        "                 )\n",
        "\n",
        "# This part is important, since it takes a little amount of time for instance to load\n",
        "import time\n",
        "time.sleep(20)\n"
      ]
    },
    {
      "cell_type": "code",
      "execution_count": 26,
      "metadata": {
        "id": "Bnz8q7BBLv9c",
        "colab": {
          "base_uri": "https://localhost:8080/"
        },
        "outputId": "41ec26f2-ca3f-462c-f9cd-ca8254b6571e"
      },
      "outputs": [
        {
          "output_type": "stream",
          "name": "stdout",
          "text": [
            "daemon       957     423  1 22:09 ?        00:00:55 /content/elasticsearch-7.0.0/jdk/bin/java -Xms1g\n",
            "daemon      1043     957  0 22:09 ?        00:00:00 /content/elasticsearch-7.0.0/modules/x-pack-ml/p\n",
            "root       15036   15034  0 23:07 ?        00:00:00 grep elasticsearch\n"
          ]
        }
      ],
      "source": [
        "%%bash\n",
        "# If you get 1 root & 2 daemon process then Elasticsearch instance has started successfully\n",
        "ps -ef | grep elasticsearch"
      ]
    },
    {
      "cell_type": "code",
      "execution_count": 27,
      "metadata": {
        "id": "k4idJB7WEjY5",
        "colab": {
          "base_uri": "https://localhost:8080/"
        },
        "outputId": "884453da-d365-4813-aa92-a486d753365d"
      },
      "outputs": [
        {
          "output_type": "stream",
          "name": "stdout",
          "text": [
            "{\n",
            "  \"name\" : \"6b34e2123210\",\n",
            "  \"cluster_name\" : \"elasticsearch\",\n",
            "  \"cluster_uuid\" : \"6l1WLjtCRgKgalnkfkwHjg\",\n",
            "  \"version\" : {\n",
            "    \"number\" : \"7.0.0\",\n",
            "    \"build_flavor\" : \"default\",\n",
            "    \"build_type\" : \"tar\",\n",
            "    \"build_hash\" : \"b7e28a7\",\n",
            "    \"build_date\" : \"2019-04-05T22:55:32.697037Z\",\n",
            "    \"build_snapshot\" : false,\n",
            "    \"lucene_version\" : \"8.0.0\",\n",
            "    \"minimum_wire_compatibility_version\" : \"6.7.0\",\n",
            "    \"minimum_index_compatibility_version\" : \"6.0.0-beta1\"\n",
            "  },\n",
            "  \"tagline\" : \"You Know, for Search\"\n",
            "}\n"
          ]
        }
      ],
      "source": [
        "# Check if elasticsearch is running\n",
        "!curl -sX GET \"localhost:9200/\""
      ]
    },
    {
      "cell_type": "code",
      "execution_count": 28,
      "metadata": {
        "id": "dTFy3CkDKk2j",
        "colab": {
          "base_uri": "https://localhost:8080/"
        },
        "outputId": "b947b4c6-30db-4f8c-93c1-6c001ced2dcc"
      },
      "outputs": [
        {
          "output_type": "stream",
          "name": "stdout",
          "text": [
            "Connected to Elasticsearch\n"
          ]
        }
      ],
      "source": [
        "es = Elasticsearch(hosts = [{\"host\":\"localhost\", \"port\":9200}])\n",
        "# Check if python is connected to elasticsearch\n",
        "if es.ping():\n",
        "    print(\"Connected to Elasticsearch\")\n",
        "else:\n",
        "    print(\"Connection failed\")"
      ]
    },
    {
      "cell_type": "code",
      "source": [
        "query=\"受持菩萨戒之前需要先受持别解脱戒吗？\"\n",
        "document = \"\"\"\n",
        "无著承许受愿心，无需别解脱戒律，\n",
        "然正受前受七戒，上师询问其违缘，\n",
        "弟子承诺学处等，以愿行各仪轨受。\n",
        "无著菩萨承许，受愿菩提心戒时无须先受别解脱戒，而受行菩提心戒时，必须受七种别解脱戒中的任一者，上师会询问是否具违缘等，弟子在上师面前承诺：从今以后愿意受持所需守持的菩萨学处。承诺守持学处以后，按照愿菩提心和行菩提心各自的仪轨进行受持。\n",
        "无著菩萨的观点：仅仅受愿菩提心戒者，不必先受别解脱戒。但想受行菩提心戒者，在真实受戒前，首先必须受七种别解脱戒。阿底峡尊者在《道灯论》中说：\"别解脱戒律，恒具七种人，菩萨戒有缘，其余不可受。\"受了别解脱戒的人，才有缘受持菩萨戒，其他人不可以受。《大圆满心性休息大车疏》中说，实际按照《道灯论自释》的观点，其他人也可以受，只不过别解脱戒中的一条学处都不能守持的人，没有学菩萨戒的缘分。究竟来讲，龙猛菩萨和无著菩萨的观点无有相违。\n",
        "受戒方式必须依靠仪轨，以断除厌离轮回及贪执寂灭之心、对远离二边的菩提心生起喜悦之情这三种教言改造自心。\n",
        "加行：在殊胜对境前供曼茶罗，诚心祈祷，皈依殊胜所依，以殊胜方便积累资粮。\n",
        "\"\"\"\n",
        "subtitle=\"\"\"\n",
        "菩萨戒不同于别解脱戒别解脱戒只有人可以受持人以外的众生则不能得到别解脱戒的戒体而菩萨戒在受戒者种类方面没有什么限制只要对大乘佛法有信心具有菩提心愿意受菩萨戒任何众生都可以受关于受菩萨戒龙树菩萨和无著菩萨的传承与戒条有些不同按照无著菩萨的要求只有在别解脱戒的基础上才能受菩萨戒而龙树菩萨的传承却没有这样的要求无论如何二者的实质内容是一样的无著菩萨所说的别解脱戒的意思不一定是指别解脱戒的真实戒体而是说必须按照别解脱戒的要求去做断除杀盗淫妄酒等等如果一条戒都不能守而随意杀人偷盗就没有办法受持菩萨戒所以在受菩萨戒之前如果有居士戒那就很完整即使没有受居士戒也不成问题因为受菩萨戒的时候同样也受了不杀生不偷盗等戒条所以没有太大差别最理想的次第是先受居士戒然后精进修持菩提心在自认自己有菩提心时再受持菩萨戒在菩萨戒的基础上再受持密宗誓言——灌顶\n",
        "\"\"\""
      ],
      "metadata": {
        "id": "L9iO5C5cOsMr"
      },
      "execution_count": 57,
      "outputs": []
    },
    {
      "cell_type": "code",
      "source": [
        "def search_and_analyze(query):\n",
        "    # 搜索\n",
        "    response = es.search(\n",
        "        index=index_name,\n",
        "        body={\n",
        "            \"query\": {\n",
        "                \"multi_match\": {\n",
        "                    \"query\": query,\n",
        "                    \"fields\": [\"content\"]\n",
        "                }\n",
        "            },\n",
        "            \"collapse\": {\n",
        "                \"field\": \"type\"  # 根据 type 字段进行折叠（去重）\n",
        "            },\n",
        "            \"highlight\": {\n",
        "                \"fields\": {\n",
        "                    \"content\": {}\n",
        "                }\n",
        "            },\n",
        "            \"sort\": [\n",
        "                {\"_score\": \"desc\"}  # 确保结果按相关性得分降序排列\n",
        "            ],\n",
        "            \"size\": 10  # 限制返回结果数量，可以根据需要调整\n",
        "        }\n",
        "    )\n",
        "\n",
        "    results = []\n",
        "    for hit in response['hits']['hits']:\n",
        "        content_type = hit['_source']['type']\n",
        "        content = hit['_source']['content']\n",
        "        score = hit['_score']\n",
        "\n",
        "        if content_type == 'document':\n",
        "            sentences = content.split('。')\n",
        "            relevant_sentences = sorted(sentences, key=lambda s: s.count(query), reverse=True)[:3]\n",
        "            relevant_parts = relevant_sentences\n",
        "        else:  # subtitle\n",
        "            phrases = list(jieba.cut(content))\n",
        "            relevant_phrases = sorted(phrases, key=lambda p: p.count(query), reverse=True)[:3]\n",
        "            relevant_parts = relevant_phrases\n",
        "\n",
        "        results.append({\n",
        "            'type': content_type,\n",
        "            'score': score,\n",
        "            'relevant_parts': relevant_parts\n",
        "        })\n",
        "\n",
        "    return results  # 结果已经按相关性排序，无需再次排序\n",
        "\n",
        "# 测试\n",
        "query = \"受持菩萨戒之前需要先受持别解脱戒吗？\"\n",
        "results = search_and_analyze(query)\n",
        "\n",
        "# 输出结果\n",
        "for result in results:\n",
        "    print(f\"类型: {result['type']}\")\n",
        "    print(f\"相关性得分: {result['score']}\")\n",
        "    print(\"最相关的部分:\")\n",
        "    for part in result['relevant_parts']:\n",
        "        print(f\"- {part}\")\n",
        "    print()\n"
      ],
      "metadata": {
        "colab": {
          "base_uri": "https://localhost:8080/"
        },
        "id": "SElGeqnK8ZJR",
        "outputId": "8b15eccc-e68e-45a3-caa6-9a88d7ad4b03"
      },
      "execution_count": 56,
      "outputs": [
        {
          "output_type": "stream",
          "name": "stdout",
          "text": [
            "类型: subtitle\n",
            "相关性得分: 3.8229833\n",
            "最相关的部分:\n",
            "- \n",
            "\n",
            "- 菩萨\n",
            "- 戒\n",
            "\n",
            "类型: document\n",
            "相关性得分: 3.6954324\n",
            "最相关的部分:\n",
            "- \n",
            "无著承许受愿心，无需别解脱戒律，\n",
            "然正受前受七戒，上师询问其违缘，\n",
            "弟子承诺学处等，以愿行各仪轨受\n",
            "- \n",
            "无著菩萨承许，受愿菩提心戒时无须先受别解脱戒，而受行菩提心戒时，必须受七种别解脱戒中的任一者，上师会询问是否具违缘等，弟子在上师面前承诺：从今以后愿意受持所需守持的菩萨学处\n",
            "- 承诺守持学处以后，按照愿菩提心和行菩提心各自的仪轨进行受持\n",
            "\n"
          ]
        }
      ]
    }
  ],
  "metadata": {
    "colab": {
      "name": "python-elasticsearch-colab.ipynb",
      "provenance": [],
      "include_colab_link": true
    },
    "kernelspec": {
      "display_name": "Python 3",
      "language": "python",
      "name": "python3"
    },
    "language_info": {
      "codemirror_mode": {
        "name": "ipython",
        "version": 3
      },
      "file_extension": ".py",
      "mimetype": "text/x-python",
      "name": "python",
      "nbconvert_exporter": "python",
      "pygments_lexer": "ipython3",
      "version": "3.8.5"
    }
  },
  "nbformat": 4,
  "nbformat_minor": 0
}